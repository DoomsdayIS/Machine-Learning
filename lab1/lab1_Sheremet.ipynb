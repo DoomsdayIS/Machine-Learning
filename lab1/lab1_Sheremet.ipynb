{
  "nbformat": 4,
  "nbformat_minor": 0,
  "metadata": {
    "colab": {
      "provenance": [],
      "collapsed_sections": [
        "MFKSC2UUA7Ne",
        "Mth2u7nzAiqw",
        "JrEY8hzdfmM2",
        "mrm41pzufmNy",
        "2kJObRBHfmOd",
        "ylh_09YIfmOg",
        "QeBH-jT4fmOy"
      ]
    },
    "kernelspec": {
      "display_name": "Python 3",
      "language": "python",
      "name": "python3"
    },
    "language_info": {
      "codemirror_mode": {
        "name": "ipython",
        "version": 3
      },
      "file_extension": ".py",
      "mimetype": "text/x-python",
      "name": "python",
      "nbconvert_exporter": "python",
      "pygments_lexer": "ipython3",
      "version": "3.7.4"
    }
  },
  "cells": [
    {
      "cell_type": "markdown",
      "source": [
        "Перед началом выполнения, сделайте копию этого colab'а. Чтобы сделать копию нужно в пункте меню Файл выбрать \"Сохранить копию на диске\""
      ],
      "metadata": {
        "id": "131T1pm5PaF4"
      }
    },
    {
      "cell_type": "markdown",
      "metadata": {
        "id": "BsNwjQDRfmLY"
      },
      "source": [
        "# Задание 1"
      ]
    },
    {
      "cell_type": "markdown",
      "metadata": {
        "id": "wu6r1-s7fmLe"
      },
      "source": [
        "---"
      ]
    },
    {
      "cell_type": "markdown",
      "metadata": {
        "id": "zxRIdPO9gYyX"
      },
      "source": [
        "Напишите программу, которая будет решать систему линейных уравнений вида:\n",
        "\n",
        "\\begin{matrix} a_{11}x+a_{12}y=b_{1}&(1) \\\\ a_{21}x+a_{22}y=b_{2} &(2) \\end{matrix}\n",
        "​\t\n",
        "На вход программа должна принимать 2 строки.\n",
        "\n",
        "Каждая строка содержит 3 действительных числа через пробел: коэффициенты a и b.\n",
        "\n",
        "На выходе программа должна выдавать значения x и y в одну строку через пробел.\n",
        " \n",
        "\n",
        "Примечание 1. Для разделения строки на отдельные элементы используйте функцию split()\n",
        "\n",
        "Примечание 2. В качестве разделителя между целой и дробной частью используйте точку, например 0.2"
      ]
    },
    {
      "cell_type": "code",
      "metadata": {
        "id": "6sxlcLbVlrjl",
        "colab": {
          "base_uri": "https://localhost:8080/"
        },
        "outputId": "d9a2b25b-8803-4201-e014-f8a35d8c93d6"
      },
      "source": [
        "import numpy as np\n",
        "\n",
        "def linan():\n",
        "  first = list(map(float,input().split()))\n",
        "  second = list(map(float,input().split()))\n",
        "  a = np.array([[first[0],first[1]],[second[0],second[1]]])\n",
        "  b = np.array([first[2], second[2]])\n",
        "  if (abs(first[0]/second[0] - first[1]/second[1]) < 0.0001):\n",
        "    if (abs(first[0]/second[0] - first[2]/second[2]) < 0.0001):\n",
        "      return \"Для любых x и y есть решение\"\n",
        "    else:\n",
        "      return \"Нет таких x и y\"\n",
        "  else:\n",
        "    x = np.linalg.solve(a, b)\n",
        "    return x\n",
        "\n",
        "print(linan())"
      ],
      "execution_count": null,
      "outputs": [
        {
          "output_type": "stream",
          "name": "stdout",
          "text": [
            "1 2 3\n",
            "4 5 6\n",
            "[-1.  2.]\n"
          ]
        }
      ]
    },
    {
      "cell_type": "markdown",
      "source": [
        "### Подсказка 1"
      ],
      "metadata": {
        "id": "kElPCFyiua9I"
      }
    },
    {
      "cell_type": "code",
      "source": [],
      "metadata": {
        "id": "jwjE2xldue0h"
      },
      "execution_count": null,
      "outputs": []
    },
    {
      "cell_type": "markdown",
      "metadata": {
        "id": "wLoVDMQnfmOv"
      },
      "source": [
        "# Задание 2"
      ]
    },
    {
      "cell_type": "markdown",
      "metadata": {
        "id": "6bmt_YF3fmOw"
      },
      "source": [
        "Напишите функцию `decorate_matrix`, которая получает на вход одно целое число больше единицы. Функция должна возвращать матрицу n на n, у которой на границах стоят единицы, а на всех остальных позициях(если остались позиции не на границах) стоят нули.\n",
        "\n",
        "Нужно сделать без использования  циклов.\n",
        "\n",
        "```\n",
        "# ожидаемый резальтат для аргумента 5\n",
        "array([[1., 1., 1., 1., 1.],\n",
        "[1., 0., 0., 0., 1.],\n",
        "[1., 0., 0., 0., 1.],\n",
        "[1., 0., 0., 0., 1.],\n",
        "[1., 1., 1., 1., 1.]])\n",
        "```\n",
        "\n"
      ]
    },
    {
      "cell_type": "code",
      "source": [
        "def decorate_matrix(n):\n",
        "    matrix = np.ones((n, n))\n",
        "    matrix[1:-1,1:-1] = 0\n",
        "    return matrix\n",
        "\n",
        "n = int(input())\n",
        "decorate_matrix(n)\n",
        "\n",
        "  \n"
      ],
      "metadata": {
        "colab": {
          "base_uri": "https://localhost:8080/"
        },
        "id": "RcfPr88f8kkj",
        "outputId": "cc65c768-507a-4a28-d09b-d2906b3ce0c2"
      },
      "execution_count": null,
      "outputs": [
        {
          "name": "stdout",
          "output_type": "stream",
          "text": [
            "3\n"
          ]
        },
        {
          "output_type": "execute_result",
          "data": {
            "text/plain": [
              "array([[1., 1., 1.],\n",
              "       [1., 0., 1.],\n",
              "       [1., 1., 1.]])"
            ]
          },
          "metadata": {},
          "execution_count": 21
        }
      ]
    },
    {
      "cell_type": "markdown",
      "metadata": {
        "id": "75sxny1zSCbl"
      },
      "source": [
        "# Задание 3"
      ]
    },
    {
      "cell_type": "markdown",
      "metadata": {
        "id": "2Xq1tBBAS5UJ"
      },
      "source": [
        "1) реализуйте 2 функции:\n",
        "\n",
        "$f(x) = (x+a)^2 - b$ \n",
        "\n",
        "$g(x) = |f(x)|$\n",
        "\n",
        "2) Найдите аргументы, при которых достигается минимум функций $f(x)$ и $g(x)$\n",
        "\n",
        "Пример. \n",
        "Входные значение: $a=3$ и $b=4$\n",
        "\n",
        "Выходные значения:\n",
        "\n",
        "`-3.0 -1.0`"
      ]
    },
    {
      "cell_type": "code",
      "source": [
        "from scipy import optimize\n",
        "\n",
        "def f(x):\n",
        "  return (x + a)**2 - b\n",
        "\n",
        "def g(x):\n",
        "  return abs(f(x))\n",
        "\n",
        "def find_min(f):\n",
        "  f_min = optimize.minimize_scalar(f)\n",
        "  return round(f_min.x, 3)\n",
        "\n",
        "a,b = map(float,input().split())\n",
        "\n",
        "fmin = find_min(f)\n",
        "f_min_points = [fmin]\n",
        "if f(fmin) > 0:\n",
        "  g_min_points = [fmin]\n",
        "  print(fmin, fmin)\n",
        "else:\n",
        "  gmin = find_min(g)\n",
        "  g_min_points = [gmin, fmin - (gmin - fmin)]\n",
        "  print(fmin, gmin, fmin - (gmin - fmin))\n"
      ],
      "metadata": {
        "colab": {
          "base_uri": "https://localhost:8080/"
        },
        "id": "MJTEVgAE9hk5",
        "outputId": "8c2b0ad6-d322-416f-a81f-1eb2ce3517c2"
      },
      "execution_count": null,
      "outputs": [
        {
          "output_type": "stream",
          "name": "stdout",
          "text": [
            "3 4\n",
            "-3.0 -1.0 -5.0\n"
          ]
        }
      ]
    },
    {
      "cell_type": "markdown",
      "metadata": {
        "id": "efml9GzISC9Q"
      },
      "source": [
        "# Задание 4"
      ]
    },
    {
      "cell_type": "markdown",
      "metadata": {
        "id": "SDZvKcsTVbAW"
      },
      "source": [
        "Постройте графики для функций из предыдущего задания и отметьте другим цветом на графиках точки найденных минимумов."
      ]
    },
    {
      "cell_type": "code",
      "source": [
        "import matplotlib.pyplot as plt\n",
        "\n",
        "def plot_function(function, min_points):\n",
        "  x = range(-15, 15)\n",
        "  y = list(map(function, x))\n",
        "  plt.plot(x, y)\n",
        "  plt.ylabel(\"Y\")\n",
        "  plt.xlabel(\"X\")\n",
        "  for point in min_points():\n",
        "    plt.scatter(point, function(point), c='#000000')"
      ],
      "metadata": {
        "id": "VtNCoavV9qTm"
      },
      "execution_count": null,
      "outputs": []
    },
    {
      "cell_type": "code",
      "source": [
        "plot_function(f,f_min_points)"
      ],
      "metadata": {
        "colab": {
          "base_uri": "https://localhost:8080/",
          "height": 296
        },
        "id": "Li-ALgppKWvt",
        "outputId": "15588842-76d9-4574-f56c-ae924026b624"
      },
      "execution_count": null,
      "outputs": [
        {
          "output_type": "stream",
          "name": "stdout",
          "text": [
            "range(-10, 10)\n"
          ]
        },
        {
          "output_type": "display_data",
          "data": {
            "text/plain": [
              "<Figure size 432x288 with 1 Axes>"
            ],
            "image/png": "[encoded data removed]"
          },
          "metadata": {
            "needs_background": "light"
          }
        }
      ]
    },
    {
      "cell_type": "code",
      "source": [
        "plot_function(g,g_min_points)"
      ],
      "metadata": {
        "colab": {
          "base_uri": "https://localhost:8080/",
          "height": 296
        },
        "id": "gSaVkogML2IR",
        "outputId": "b51ffb54-850f-4621-c26a-a3d594149936"
      },
      "execution_count": null,
      "outputs": [
        {
          "output_type": "stream",
          "name": "stdout",
          "text": [
            "range(-10, 10)\n"
          ]
        },
        {
          "output_type": "display_data",
          "data": {
            "text/plain": [
              "<Figure size 432x288 with 1 Axes>"
            ],
            "image/png": "[encoded data removed]"
          },
          "metadata": {
            "needs_background": "light"
          }
        }
      ]
    },
    {
      "cell_type": "markdown",
      "metadata": {
        "id": "mrby3EfiSDKJ"
      },
      "source": [
        "# Задание 5"
      ]
    },
    {
      "cell_type": "markdown",
      "metadata": {
        "id": "J6AZ8785VkQd"
      },
      "source": [
        "1000 человек бросают монетку. Каждый бросил 10 раз подряд.\n",
        "\n",
        " 1. Какова вероятность того, что хотя бы у одного человека монетка выпала 10 раз подряд той же самой стороной (орлом или решкой)? \n",
        " 2. Какова вероятность того, что хотя бы у одного человека монетка выпала 8 раз подряд той же самой стороной (орлом или решкой)? \n",
        " 3. Какова вероятность того, что ровно у троих человек из 1000 монетка выпала 10 раз подряд той же самой стороной (орлом или решкой)?"
      ]
    },
    {
      "cell_type": "code",
      "source": [
        "import scipy.special as ss\n",
        "#1\n",
        "print(1 - (1022/1024)**1000)\n",
        "#2\n",
        "print(1 - (1014/1024)**1000)\n",
        "#3\n",
        "ss.binom(1000,3)*((2/1024)**3)*(1022/1024)**997"
      ],
      "metadata": {
        "colab": {
          "base_uri": "https://localhost:8080/"
        },
        "id": "H1XSQPVCCviV",
        "outputId": "b69fb6db-14e6-4360-f3e7-ab1897d4feb1"
      },
      "execution_count": null,
      "outputs": [
        {
          "output_type": "stream",
          "name": "stdout",
          "text": [
            "0.858440454732242\n",
            "0.9999452986105908\n"
          ]
        },
        {
          "output_type": "execute_result",
          "data": {
            "text/plain": [
              "0.1762873858121736"
            ]
          },
          "metadata": {},
          "execution_count": 45
        }
      ]
    }
  ]
}