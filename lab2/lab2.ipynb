{
  "nbformat": 4,
  "nbformat_minor": 0,
  "metadata": {
    "hide_input": false,
    "kernelspec": {
      "display_name": "Python 3",
      "language": "python",
      "name": "python3"
    },
    "language_info": {
      "codemirror_mode": {
        "name": "ipython",
        "version": 3
      },
      "file_extension": ".py",
      "mimetype": "text/x-python",
      "name": "python",
      "nbconvert_exporter": "python",
      "pygments_lexer": "ipython3",
      "version": "3.7.1"
    },
    "toc": {
      "base_numbering": 1,
      "nav_menu": {},
      "number_sections": true,
      "sideBar": true,
      "skip_h1_title": false,
      "title_cell": "Table of Contents",
      "title_sidebar": "Contents",
      "toc_cell": true,
      "toc_position": {},
      "toc_section_display": true,
      "toc_window_display": false
    },
    "varInspector": {
      "cols": {
        "lenName": 16,
        "lenType": 16,
        "lenVar": 40
      },
      "kernels_config": {
        "python": {
          "delete_cmd_postfix": "",
          "delete_cmd_prefix": "del ",
          "library": "var_list.py",
          "varRefreshCmd": "print(var_dic_list())"
        },
        "r": {
          "delete_cmd_postfix": ") ",
          "delete_cmd_prefix": "rm(",
          "library": "var_list.r",
          "varRefreshCmd": "cat(var_dic_list()) "
        }
      },
      "types_to_exclude": [
        "module",
        "function",
        "builtin_function_or_method",
        "instance",
        "_Feature"
      ],
      "window_display": false
    },
    "colab": {
      "provenance": []
    }
  },
  "cells": [
    {
      "cell_type": "code",
      "metadata": {
        "ExecuteTime": {
          "end_time": "2020-04-23T10:16:05.965275Z",
          "start_time": "2020-04-23T10:16:05.312704Z"
        },
        "id": "bZ7J0si68JdT"
      },
      "source": [
        "import pandas as pd\n",
        "import numpy as np"
      ],
      "execution_count": null,
      "outputs": []
    },
    {
      "cell_type": "markdown",
      "metadata": {
        "id": "xjvL0IIG8Jd0"
      },
      "source": [
        "## Задание 0\n"
      ]
    },
    {
      "cell_type": "markdown",
      "metadata": {
        "id": "yaSxXHvxO0qo"
      },
      "source": [
        "Для всех  заданий будем использовать обезличенные транзакционные банковские данные. Для этого считайте в переменные **tr_mcc_codes, tr_types, transactions и gender_train** из одноимённых таблиц из папки [data](https://drive.google.com/drive/folders/1YAMe7MiTxA-RSSd8Ex2p-L0Dspe6Gs4L). \n",
        "\n",
        "Для таблицы transactions используйте только первые n=1000000 строк. При чтении файлов обратите внимание на разделители внутри каждого из файлов - они могут различаться!"
      ]
    },
    {
      "cell_type": "markdown",
      "metadata": {
        "id": "oP3lX9xC8Jd8"
      },
      "source": [
        "###  Описание данных\n",
        "#### Таблица ```transactions.csv```\n",
        "##### Описание\n",
        "Таблица содержит историю транзакций клиентов банка за один год и три месяца.\n",
        "\n",
        "##### Формат данных\n",
        "\n",
        "```\n",
        "customer_id,tr_datetime,mcc_code,tr_type,amount,term_id\n",
        "111111,15 01:40:52,1111,1000,-5224,111111\n",
        "111112,15 15:18:32,3333,2000,-100,11122233\n",
        "...\n",
        "```\n",
        "##### Описание полей\n",
        "\n",
        " - ```customer_id``` — идентификатор клиента;\n",
        " - ```tr_datetime``` — день и время совершения транзакции (дни нумеруются с начала данных);\n",
        " - ```mcc_code``` — mcc-код транзакции;\n",
        " - ```tr_type``` — тип транзакции;\n",
        " - ```amount``` — сумма транзакции в условных единицах со знаком; ```+``` — начисление средств клиенту (приходная транзакция), ```-``` — списание средств (расходная транзакция);\n",
        " - ```term_id``` — идентификатор терминала;\n",
        "\n",
        "\n",
        "#### Таблица ```gender_train.csv```\n",
        "\n",
        "##### Описание\n",
        "Данная таблица содержит информацию по полу для части клиентов, для которых он известен. Для остальных клиентов пол неизвестен.\n",
        "\n",
        "##### Формат данных\n",
        "```\n",
        "customer_id,gender\n",
        "111111,0\n",
        "111112,1\n",
        "...\n",
        "```\n",
        "\n",
        "##### Описание полей\n",
        " - ```customer_id``` — идентификатор клиента;\n",
        " - ```gender``` — пол клиента;\n",
        "\n",
        "### Таблица ```tr_mcc_codes.csv```\n",
        "\n",
        "##### Описание\n",
        "Данная таблица содержит описание mcc-кодов транзакций.\n",
        "\n",
        "##### Формат данных\n",
        "```\n",
        "mcc_code;mcc_description\n",
        "1000;словесное описание mcc-кода 1000\n",
        "2000;словесное описание mcc-кода 2000\n",
        "...\n",
        "```\n",
        "\n",
        "##### Описание полей\n",
        " - ```mcc_code``` – mcc-код транзакции;\n",
        " - ```mcc_description``` — описание mcc-кода транзакции.\n",
        "\n",
        "#### Таблица ```tr_types.csv```\n",
        "\n",
        "##### Описание\n",
        "Данная таблица содержит описание типов транзакций.\n",
        "\n",
        "##### Формат данных\n",
        "```\n",
        "tr_type;tr_description\n",
        "1000;словесное описание типа транзакции 1000\n",
        "2000;словесное описание типа транзакции 2000\n",
        "...\n",
        "```\n",
        "\n",
        "##### Описание полей\n",
        " - ```tr_type``` – тип транзакции;\n",
        " - ```tr_description``` — описание типа транзакции;"
      ]
    },
    {
      "cell_type": "code",
      "source": [
        "!gdown 1EP3KrATWS1I_qYdpRhYnSDl-eoBiOBQc"
      ],
      "metadata": {
        "colab": {
          "base_uri": "https://localhost:8080/"
        },
        "id": "noO3mtFCmnOG",
        "outputId": "03447fe1-eb9a-42da-f79a-ed9f1cfe07ac"
      },
      "execution_count": null,
      "outputs": [
        {
          "output_type": "stream",
          "name": "stdout",
          "text": [
            "Downloading...\n",
            "From: https://drive.google.com/uc?id=1EP3KrATWS1I_qYdpRhYnSDl-eoBiOBQc\n",
            "To: /content/tr_types.csv\n",
            "\r  0% 0.00/14.2k [00:00<?, ?B/s]\r100% 14.2k/14.2k [00:00<00:00, 19.5MB/s]\n"
          ]
        }
      ]
    },
    {
      "cell_type": "code",
      "source": [
        "!gdown 1FG1fopcmvMZ7GBaBOqQipccSeFoMUvNT"
      ],
      "metadata": {
        "colab": {
          "base_uri": "https://localhost:8080/"
        },
        "id": "brb0o_51nIGC",
        "outputId": "3584dead-3614-42bc-dcf7-245ee91153d3"
      },
      "execution_count": null,
      "outputs": [
        {
          "output_type": "stream",
          "name": "stdout",
          "text": [
            "Downloading...\n",
            "From: https://drive.google.com/uc?id=1FG1fopcmvMZ7GBaBOqQipccSeFoMUvNT\n",
            "To: /content/gender_train.csv\n",
            "\r  0% 0.00/99.9k [00:00<?, ?B/s]\r100% 99.9k/99.9k [00:00<00:00, 43.3MB/s]\n"
          ]
        }
      ]
    },
    {
      "cell_type": "code",
      "source": [
        "!gdown 1lEpoRKczv5EvZhff9O2I-0JkdHnbe_Mq"
      ],
      "metadata": {
        "colab": {
          "base_uri": "https://localhost:8080/"
        },
        "id": "v9ukXXDjnQLC",
        "outputId": "865666b6-27a0-4fdc-c698-3cde5808a8ed"
      },
      "execution_count": null,
      "outputs": [
        {
          "output_type": "stream",
          "name": "stdout",
          "text": [
            "Downloading...\n",
            "From: https://drive.google.com/uc?id=1lEpoRKczv5EvZhff9O2I-0JkdHnbe_Mq\n",
            "To: /content/transactions.csv\n",
            "100% 314M/314M [00:01<00:00, 203MB/s]\n"
          ]
        }
      ]
    },
    {
      "cell_type": "code",
      "source": [
        "!gdown 10J8RzMIhoYHiad49r-oWNMAk-V5lo3OE"
      ],
      "metadata": {
        "colab": {
          "base_uri": "https://localhost:8080/"
        },
        "id": "Gv5YviXsf7Sl",
        "outputId": "8e5be71a-58f5-47d5-bcf9-d7cd7ce1ec9d"
      },
      "execution_count": null,
      "outputs": [
        {
          "output_type": "stream",
          "name": "stdout",
          "text": [
            "Downloading...\n",
            "From: https://drive.google.com/uc?id=10J8RzMIhoYHiad49r-oWNMAk-V5lo3OE\n",
            "To: /content/tr_mcc_codes.csv\n",
            "\r  0% 0.00/14.9k [00:00<?, ?B/s]\r100% 14.9k/14.9k [00:00<00:00, 20.3MB/s]\n"
          ]
        }
      ]
    },
    {
      "cell_type": "code",
      "source": [
        "transactions = pd.read_csv(filepath_or_buffer = \"transactions.csv\",\n",
        "           sep = ',',\n",
        "           nrows = 1000000)\n",
        "transactions.head(3)"
      ],
      "metadata": {
        "colab": {
          "base_uri": "https://localhost:8080/",
          "height": 164
        },
        "id": "oEApL5lXnauf",
        "outputId": "8c88c113-9c2a-4c07-bc3d-2e87d4628258"
      },
      "execution_count": null,
      "outputs": [
        {
          "output_type": "execute_result",
          "data": {
            "text/plain": [
              "   customer_id tr_datetime  mcc_code  tr_type    amount term_id\n",
              "0     39026145  0 10:23:26      4814     1030  -2245.92     NaN\n",
              "1     39026145  1 10:19:29      6011     7010  56147.89     NaN\n",
              "2     39026145  1 10:20:56      4829     2330 -56147.89     NaN"
            ],
            "text/html": [
              "\n",
              "  <div id=\"df-b79ad0f6-206f-4aa7-9d67-07deaad35e66\">\n",
              "    <div class=\"colab-df-container\">\n",
              "      <div>\n",
              "<style scoped>\n",
              "    .dataframe tbody tr th:only-of-type {\n",
              "        vertical-align: middle;\n",
              "    }\n",
              "\n",
              "    .dataframe tbody tr th {\n",
              "        vertical-align: top;\n",
              "    }\n",
              "\n",
              "    .dataframe thead th {\n",
              "        text-align: right;\n",
              "    }\n",
              "</style>\n",
              "<table border=\"1\" class=\"dataframe\">\n",
              "  <thead>\n",
              "    <tr style=\"text-align: right;\">\n",
              "      <th></th>\n",
              "      <th>customer_id</th>\n",
              "      <th>tr_datetime</th>\n",
              "      <th>mcc_code</th>\n",
              "      <th>tr_type</th>\n",
              "      <th>amount</th>\n",
              "      <th>term_id</th>\n",
              "    </tr>\n",
              "  </thead>\n",
              "  <tbody>\n",
              "    <tr>\n",
              "      <th>0</th>\n",
              "      <td>39026145</td>\n",
              "      <td>0 10:23:26</td>\n",
              "      <td>4814</td>\n",
              "      <td>1030</td>\n",
              "      <td>-2245.92</td>\n",
              "      <td>NaN</td>\n",
              "    </tr>\n",
              "    <tr>\n",
              "      <th>1</th>\n",
              "      <td>39026145</td>\n",
              "      <td>1 10:19:29</td>\n",
              "      <td>6011</td>\n",
              "      <td>7010</td>\n",
              "      <td>56147.89</td>\n",
              "      <td>NaN</td>\n",
              "    </tr>\n",
              "    <tr>\n",
              "      <th>2</th>\n",
              "      <td>39026145</td>\n",
              "      <td>1 10:20:56</td>\n",
              "      <td>4829</td>\n",
              "      <td>2330</td>\n",
              "      <td>-56147.89</td>\n",
              "      <td>NaN</td>\n",
              "    </tr>\n",
              "  </tbody>\n",
              "</table>\n",
              "</div>\n",
              "      <button class=\"colab-df-convert\" onclick=\"convertToInteractive('df-b79ad0f6-206f-4aa7-9d67-07deaad35e66')\"\n",
              "              title=\"Convert this dataframe to an interactive table.\"\n",
              "              style=\"display:none;\">\n",
              "        \n",
              "  <svg xmlns=\"http://www.w3.org/2000/svg\" height=\"24px\"viewBox=\"0 0 24 24\"\n",
              "       width=\"24px\">\n",
              "    <path d=\"M0 0h24v24H0V0z\" fill=\"none\"/>\n",
              "    <path d=\"M18.56 5.44l.94 2.06.94-2.06 2.06-.94-2.06-.94-.94-2.06-.94 2.06-2.06.94zm-11 1L8.5 8.5l.94-2.06 2.06-.94-2.06-.94L8.5 2.5l-.94 2.06-2.06.94zm10 10l.94 2.06.94-2.06 2.06-.94-2.06-.94-.94-2.06-.94 2.06-2.06.94z\"/><path d=\"M17.41 7.96l-1.37-1.37c-.4-.4-.92-.59-1.43-.59-.52 0-1.04.2-1.43.59L10.3 9.45l-7.72 7.72c-.78.78-.78 2.05 0 2.83L4 21.41c.39.39.9.59 1.41.59.51 0 1.02-.2 1.41-.59l7.78-7.78 2.81-2.81c.8-.78.8-2.07 0-2.86zM5.41 20L4 18.59l7.72-7.72 1.47 1.35L5.41 20z\"/>\n",
              "  </svg>\n",
              "      </button>\n",
              "      \n",
              "  <style>\n",
              "    .colab-df-container {\n",
              "      display:flex;\n",
              "      flex-wrap:wrap;\n",
              "      gap: 12px;\n",
              "    }\n",
              "\n",
              "    .colab-df-convert {\n",
              "      background-color: #E8F0FE;\n",
              "      border: none;\n",
              "      border-radius: 50%;\n",
              "      cursor: pointer;\n",
              "      display: none;\n",
              "      fill: #1967D2;\n",
              "      height: 32px;\n",
              "      padding: 0 0 0 0;\n",
              "      width: 32px;\n",
              "    }\n",
              "\n",
              "    .colab-df-convert:hover {\n",
              "      background-color: #E2EBFA;\n",
              "      box-shadow: 0px 1px 2px rgba(60, 64, 67, 0.3), 0px 1px 3px 1px rgba(60, 64, 67, 0.15);\n",
              "      fill: #174EA6;\n",
              "    }\n",
              "\n",
              "    [theme=dark] .colab-df-convert {\n",
              "      background-color: #3B4455;\n",
              "      fill: #D2E3FC;\n",
              "    }\n",
              "\n",
              "    [theme=dark] .colab-df-convert:hover {\n",
              "      background-color: #434B5C;\n",
              "      box-shadow: 0px 1px 3px 1px rgba(0, 0, 0, 0.15);\n",
              "      filter: drop-shadow(0px 1px 2px rgba(0, 0, 0, 0.3));\n",
              "      fill: #FFFFFF;\n",
              "    }\n",
              "  </style>\n",
              "\n",
              "      <script>\n",
              "        const buttonEl =\n",
              "          document.querySelector('#df-b79ad0f6-206f-4aa7-9d67-07deaad35e66 button.colab-df-convert');\n",
              "        buttonEl.style.display =\n",
              "          google.colab.kernel.accessAllowed ? 'block' : 'none';\n",
              "\n",
              "        async function convertToInteractive(key) {\n",
              "          const element = document.querySelector('#df-b79ad0f6-206f-4aa7-9d67-07deaad35e66');\n",
              "          const dataTable =\n",
              "            await google.colab.kernel.invokeFunction('convertToInteractive',\n",
              "                                                     [key], {});\n",
              "          if (!dataTable) return;\n",
              "\n",
              "          const docLinkHtml = 'Like what you see? Visit the ' +\n",
              "            '<a target=\"_blank\" href=https://colab.research.google.com/notebooks/data_table.ipynb>data table notebook</a>'\n",
              "            + ' to learn more about interactive tables.';\n",
              "          element.innerHTML = '';\n",
              "          dataTable['output_type'] = 'display_data';\n",
              "          await google.colab.output.renderOutput(dataTable, element);\n",
              "          const docLink = document.createElement('div');\n",
              "          docLink.innerHTML = docLinkHtml;\n",
              "          element.appendChild(docLink);\n",
              "        }\n",
              "      </script>\n",
              "    </div>\n",
              "  </div>\n",
              "  "
            ]
          },
          "metadata": {},
          "execution_count": 52
        }
      ]
    },
    {
      "cell_type": "code",
      "source": [
        "gender_train = pd.read_csv('gender_train.csv',\n",
        "                           sep = ',')\n",
        "gender_train.head(3)"
      ],
      "metadata": {
        "colab": {
          "base_uri": "https://localhost:8080/",
          "height": 164
        },
        "id": "HVNwd-iRoYyN",
        "outputId": "2130bdfc-80d7-4ea4-e076-c538029e1adc"
      },
      "execution_count": null,
      "outputs": [
        {
          "output_type": "execute_result",
          "data": {
            "text/plain": [
              "   customer_id  gender\n",
              "0     10928546       1\n",
              "1     69348468       1\n",
              "2     61009479       0"
            ],
            "text/html": [
              "\n",
              "  <div id=\"df-124297e1-587d-4f51-8a26-521d76394689\">\n",
              "    <div class=\"colab-df-container\">\n",
              "      <div>\n",
              "<style scoped>\n",
              "    .dataframe tbody tr th:only-of-type {\n",
              "        vertical-align: middle;\n",
              "    }\n",
              "\n",
              "    .dataframe tbody tr th {\n",
              "        vertical-align: top;\n",
              "    }\n",
              "\n",
              "    .dataframe thead th {\n",
              "        text-align: right;\n",
              "    }\n",
              "</style>\n",
              "<table border=\"1\" class=\"dataframe\">\n",
              "  <thead>\n",
              "    <tr style=\"text-align: right;\">\n",
              "      <th></th>\n",
              "      <th>customer_id</th>\n",
              "      <th>gender</th>\n",
              "    </tr>\n",
              "  </thead>\n",
              "  <tbody>\n",
              "    <tr>\n",
              "      <th>0</th>\n",
              "      <td>10928546</td>\n",
              "      <td>1</td>\n",
              "    </tr>\n",
              "    <tr>\n",
              "      <th>1</th>\n",
              "      <td>69348468</td>\n",
              "      <td>1</td>\n",
              "    </tr>\n",
              "    <tr>\n",
              "      <th>2</th>\n",
              "      <td>61009479</td>\n",
              "      <td>0</td>\n",
              "    </tr>\n",
              "  </tbody>\n",
              "</table>\n",
              "</div>\n",
              "      <button class=\"colab-df-convert\" onclick=\"convertToInteractive('df-124297e1-587d-4f51-8a26-521d76394689')\"\n",
              "              title=\"Convert this dataframe to an interactive table.\"\n",
              "              style=\"display:none;\">\n",
              "        \n",
              "  <svg xmlns=\"http://www.w3.org/2000/svg\" height=\"24px\"viewBox=\"0 0 24 24\"\n",
              "       width=\"24px\">\n",
              "    <path d=\"M0 0h24v24H0V0z\" fill=\"none\"/>\n",
              "    <path d=\"M18.56 5.44l.94 2.06.94-2.06 2.06-.94-2.06-.94-.94-2.06-.94 2.06-2.06.94zm-11 1L8.5 8.5l.94-2.06 2.06-.94-2.06-.94L8.5 2.5l-.94 2.06-2.06.94zm10 10l.94 2.06.94-2.06 2.06-.94-2.06-.94-.94-2.06-.94 2.06-2.06.94z\"/><path d=\"M17.41 7.96l-1.37-1.37c-.4-.4-.92-.59-1.43-.59-.52 0-1.04.2-1.43.59L10.3 9.45l-7.72 7.72c-.78.78-.78 2.05 0 2.83L4 21.41c.39.39.9.59 1.41.59.51 0 1.02-.2 1.41-.59l7.78-7.78 2.81-2.81c.8-.78.8-2.07 0-2.86zM5.41 20L4 18.59l7.72-7.72 1.47 1.35L5.41 20z\"/>\n",
              "  </svg>\n",
              "      </button>\n",
              "      \n",
              "  <style>\n",
              "    .colab-df-container {\n",
              "      display:flex;\n",
              "      flex-wrap:wrap;\n",
              "      gap: 12px;\n",
              "    }\n",
              "\n",
              "    .colab-df-convert {\n",
              "      background-color: #E8F0FE;\n",
              "      border: none;\n",
              "      border-radius: 50%;\n",
              "      cursor: pointer;\n",
              "      display: none;\n",
              "      fill: #1967D2;\n",
              "      height: 32px;\n",
              "      padding: 0 0 0 0;\n",
              "      width: 32px;\n",
              "    }\n",
              "\n",
              "    .colab-df-convert:hover {\n",
              "      background-color: #E2EBFA;\n",
              "      box-shadow: 0px 1px 2px rgba(60, 64, 67, 0.3), 0px 1px 3px 1px rgba(60, 64, 67, 0.15);\n",
              "      fill: #174EA6;\n",
              "    }\n",
              "\n",
              "    [theme=dark] .colab-df-convert {\n",
              "      background-color: #3B4455;\n",
              "      fill: #D2E3FC;\n",
              "    }\n",
              "\n",
              "    [theme=dark] .colab-df-convert:hover {\n",
              "      background-color: #434B5C;\n",
              "      box-shadow: 0px 1px 3px 1px rgba(0, 0, 0, 0.15);\n",
              "      filter: drop-shadow(0px 1px 2px rgba(0, 0, 0, 0.3));\n",
              "      fill: #FFFFFF;\n",
              "    }\n",
              "  </style>\n",
              "\n",
              "      <script>\n",
              "        const buttonEl =\n",
              "          document.querySelector('#df-124297e1-587d-4f51-8a26-521d76394689 button.colab-df-convert');\n",
              "        buttonEl.style.display =\n",
              "          google.colab.kernel.accessAllowed ? 'block' : 'none';\n",
              "\n",
              "        async function convertToInteractive(key) {\n",
              "          const element = document.querySelector('#df-124297e1-587d-4f51-8a26-521d76394689');\n",
              "          const dataTable =\n",
              "            await google.colab.kernel.invokeFunction('convertToInteractive',\n",
              "                                                     [key], {});\n",
              "          if (!dataTable) return;\n",
              "\n",
              "          const docLinkHtml = 'Like what you see? Visit the ' +\n",
              "            '<a target=\"_blank\" href=https://colab.research.google.com/notebooks/data_table.ipynb>data table notebook</a>'\n",
              "            + ' to learn more about interactive tables.';\n",
              "          element.innerHTML = '';\n",
              "          dataTable['output_type'] = 'display_data';\n",
              "          await google.colab.output.renderOutput(dataTable, element);\n",
              "          const docLink = document.createElement('div');\n",
              "          docLink.innerHTML = docLinkHtml;\n",
              "          element.appendChild(docLink);\n",
              "        }\n",
              "      </script>\n",
              "    </div>\n",
              "  </div>\n",
              "  "
            ]
          },
          "metadata": {},
          "execution_count": 8
        }
      ]
    },
    {
      "cell_type": "code",
      "source": [
        "tr_mcc_codes = pd.read_csv('tr_mcc_codes.csv',\n",
        "                           sep = ';')\n",
        "tr_mcc_codes.head(3)"
      ],
      "metadata": {
        "colab": {
          "base_uri": "https://localhost:8080/",
          "height": 164
        },
        "id": "SeA29DF3lt0m",
        "outputId": "f5013985-e9a1-47b4-c116-c66b3c91b209"
      },
      "execution_count": null,
      "outputs": [
        {
          "output_type": "execute_result",
          "data": {
            "text/plain": [
              "   mcc_code                                    mcc_description\n",
              "0       742                                Ветеринарные услуги\n",
              "1      1711  Генеральные подрядчики по вентиляции, теплосна...\n",
              "2      1731                        Подрядчики по электричеству"
            ],
            "text/html": [
              "\n",
              "  <div id=\"df-39ce444f-cc42-4f15-97bf-98225a991c84\">\n",
              "    <div class=\"colab-df-container\">\n",
              "      <div>\n",
              "<style scoped>\n",
              "    .dataframe tbody tr th:only-of-type {\n",
              "        vertical-align: middle;\n",
              "    }\n",
              "\n",
              "    .dataframe tbody tr th {\n",
              "        vertical-align: top;\n",
              "    }\n",
              "\n",
              "    .dataframe thead th {\n",
              "        text-align: right;\n",
              "    }\n",
              "</style>\n",
              "<table border=\"1\" class=\"dataframe\">\n",
              "  <thead>\n",
              "    <tr style=\"text-align: right;\">\n",
              "      <th></th>\n",
              "      <th>mcc_code</th>\n",
              "      <th>mcc_description</th>\n",
              "    </tr>\n",
              "  </thead>\n",
              "  <tbody>\n",
              "    <tr>\n",
              "      <th>0</th>\n",
              "      <td>742</td>\n",
              "      <td>Ветеринарные услуги</td>\n",
              "    </tr>\n",
              "    <tr>\n",
              "      <th>1</th>\n",
              "      <td>1711</td>\n",
              "      <td>Генеральные подрядчики по вентиляции, теплосна...</td>\n",
              "    </tr>\n",
              "    <tr>\n",
              "      <th>2</th>\n",
              "      <td>1731</td>\n",
              "      <td>Подрядчики по электричеству</td>\n",
              "    </tr>\n",
              "  </tbody>\n",
              "</table>\n",
              "</div>\n",
              "      <button class=\"colab-df-convert\" onclick=\"convertToInteractive('df-39ce444f-cc42-4f15-97bf-98225a991c84')\"\n",
              "              title=\"Convert this dataframe to an interactive table.\"\n",
              "              style=\"display:none;\">\n",
              "        \n",
              "  <svg xmlns=\"http://www.w3.org/2000/svg\" height=\"24px\"viewBox=\"0 0 24 24\"\n",
              "       width=\"24px\">\n",
              "    <path d=\"M0 0h24v24H0V0z\" fill=\"none\"/>\n",
              "    <path d=\"M18.56 5.44l.94 2.06.94-2.06 2.06-.94-2.06-.94-.94-2.06-.94 2.06-2.06.94zm-11 1L8.5 8.5l.94-2.06 2.06-.94-2.06-.94L8.5 2.5l-.94 2.06-2.06.94zm10 10l.94 2.06.94-2.06 2.06-.94-2.06-.94-.94-2.06-.94 2.06-2.06.94z\"/><path d=\"M17.41 7.96l-1.37-1.37c-.4-.4-.92-.59-1.43-.59-.52 0-1.04.2-1.43.59L10.3 9.45l-7.72 7.72c-.78.78-.78 2.05 0 2.83L4 21.41c.39.39.9.59 1.41.59.51 0 1.02-.2 1.41-.59l7.78-7.78 2.81-2.81c.8-.78.8-2.07 0-2.86zM5.41 20L4 18.59l7.72-7.72 1.47 1.35L5.41 20z\"/>\n",
              "  </svg>\n",
              "      </button>\n",
              "      \n",
              "  <style>\n",
              "    .colab-df-container {\n",
              "      display:flex;\n",
              "      flex-wrap:wrap;\n",
              "      gap: 12px;\n",
              "    }\n",
              "\n",
              "    .colab-df-convert {\n",
              "      background-color: #E8F0FE;\n",
              "      border: none;\n",
              "      border-radius: 50%;\n",
              "      cursor: pointer;\n",
              "      display: none;\n",
              "      fill: #1967D2;\n",
              "      height: 32px;\n",
              "      padding: 0 0 0 0;\n",
              "      width: 32px;\n",
              "    }\n",
              "\n",
              "    .colab-df-convert:hover {\n",
              "      background-color: #E2EBFA;\n",
              "      box-shadow: 0px 1px 2px rgba(60, 64, 67, 0.3), 0px 1px 3px 1px rgba(60, 64, 67, 0.15);\n",
              "      fill: #174EA6;\n",
              "    }\n",
              "\n",
              "    [theme=dark] .colab-df-convert {\n",
              "      background-color: #3B4455;\n",
              "      fill: #D2E3FC;\n",
              "    }\n",
              "\n",
              "    [theme=dark] .colab-df-convert:hover {\n",
              "      background-color: #434B5C;\n",
              "      box-shadow: 0px 1px 3px 1px rgba(0, 0, 0, 0.15);\n",
              "      filter: drop-shadow(0px 1px 2px rgba(0, 0, 0, 0.3));\n",
              "      fill: #FFFFFF;\n",
              "    }\n",
              "  </style>\n",
              "\n",
              "      <script>\n",
              "        const buttonEl =\n",
              "          document.querySelector('#df-39ce444f-cc42-4f15-97bf-98225a991c84 button.colab-df-convert');\n",
              "        buttonEl.style.display =\n",
              "          google.colab.kernel.accessAllowed ? 'block' : 'none';\n",
              "\n",
              "        async function convertToInteractive(key) {\n",
              "          const element = document.querySelector('#df-39ce444f-cc42-4f15-97bf-98225a991c84');\n",
              "          const dataTable =\n",
              "            await google.colab.kernel.invokeFunction('convertToInteractive',\n",
              "                                                     [key], {});\n",
              "          if (!dataTable) return;\n",
              "\n",
              "          const docLinkHtml = 'Like what you see? Visit the ' +\n",
              "            '<a target=\"_blank\" href=https://colab.research.google.com/notebooks/data_table.ipynb>data table notebook</a>'\n",
              "            + ' to learn more about interactive tables.';\n",
              "          element.innerHTML = '';\n",
              "          dataTable['output_type'] = 'display_data';\n",
              "          await google.colab.output.renderOutput(dataTable, element);\n",
              "          const docLink = document.createElement('div');\n",
              "          docLink.innerHTML = docLinkHtml;\n",
              "          element.appendChild(docLink);\n",
              "        }\n",
              "      </script>\n",
              "    </div>\n",
              "  </div>\n",
              "  "
            ]
          },
          "metadata": {},
          "execution_count": 9
        }
      ]
    },
    {
      "cell_type": "code",
      "source": [
        "tr_types = pd.read_csv('tr_types.csv',\n",
        "                           sep = ';')\n",
        "tr_types"
      ],
      "metadata": {
        "colab": {
          "base_uri": "https://localhost:8080/",
          "height": 447
        },
        "id": "2P7as5KromBX",
        "outputId": "195802fe-2b21-485a-8db6-4531c26d789d"
      },
      "execution_count": null,
      "outputs": [
        {
          "output_type": "execute_result",
          "data": {
            "text/plain": [
              "     tr_type                                     tr_description\n",
              "0       3200  Плата за предоставление услуг посредством моби...\n",
              "1       3210  Плата за предоставление отчета по счету карты ...\n",
              "2       3800  Плата за обслуживание банковской карты (за пер...\n",
              "3       4000            Плата за получение наличных в Сбербанке\n",
              "4       4001  Плата за получение наличных в Сбербанке (в дру...\n",
              "..       ...                                                ...\n",
              "150     2990                             Списание по требованию\n",
              "151     2992  Списание средств для погашения задолженности п...\n",
              "152     3001            Комиссия за обслуживание ссудного счета\n",
              "153     3030  Плата за обслуживание банковской карты (за пос...\n",
              "154     3120                Плата за досрочный перевыпуск карты\n",
              "\n",
              "[155 rows x 2 columns]"
            ],
            "text/html": [
              "\n",
              "  <div id=\"df-36cb5644-ceb4-462a-8360-066788bff640\">\n",
              "    <div class=\"colab-df-container\">\n",
              "      <div>\n",
              "<style scoped>\n",
              "    .dataframe tbody tr th:only-of-type {\n",
              "        vertical-align: middle;\n",
              "    }\n",
              "\n",
              "    .dataframe tbody tr th {\n",
              "        vertical-align: top;\n",
              "    }\n",
              "\n",
              "    .dataframe thead th {\n",
              "        text-align: right;\n",
              "    }\n",
              "</style>\n",
              "<table border=\"1\" class=\"dataframe\">\n",
              "  <thead>\n",
              "    <tr style=\"text-align: right;\">\n",
              "      <th></th>\n",
              "      <th>tr_type</th>\n",
              "      <th>tr_description</th>\n",
              "    </tr>\n",
              "  </thead>\n",
              "  <tbody>\n",
              "    <tr>\n",
              "      <th>0</th>\n",
              "      <td>3200</td>\n",
              "      <td>Плата за предоставление услуг посредством моби...</td>\n",
              "    </tr>\n",
              "    <tr>\n",
              "      <th>1</th>\n",
              "      <td>3210</td>\n",
              "      <td>Плата за предоставление отчета по счету карты ...</td>\n",
              "    </tr>\n",
              "    <tr>\n",
              "      <th>2</th>\n",
              "      <td>3800</td>\n",
              "      <td>Плата за обслуживание банковской карты (за пер...</td>\n",
              "    </tr>\n",
              "    <tr>\n",
              "      <th>3</th>\n",
              "      <td>4000</td>\n",
              "      <td>Плата за получение наличных в Сбербанке</td>\n",
              "    </tr>\n",
              "    <tr>\n",
              "      <th>4</th>\n",
              "      <td>4001</td>\n",
              "      <td>Плата за получение наличных в Сбербанке (в дру...</td>\n",
              "    </tr>\n",
              "    <tr>\n",
              "      <th>...</th>\n",
              "      <td>...</td>\n",
              "      <td>...</td>\n",
              "    </tr>\n",
              "    <tr>\n",
              "      <th>150</th>\n",
              "      <td>2990</td>\n",
              "      <td>Списание по требованию</td>\n",
              "    </tr>\n",
              "    <tr>\n",
              "      <th>151</th>\n",
              "      <td>2992</td>\n",
              "      <td>Списание средств для погашения задолженности п...</td>\n",
              "    </tr>\n",
              "    <tr>\n",
              "      <th>152</th>\n",
              "      <td>3001</td>\n",
              "      <td>Комиссия за обслуживание ссудного счета</td>\n",
              "    </tr>\n",
              "    <tr>\n",
              "      <th>153</th>\n",
              "      <td>3030</td>\n",
              "      <td>Плата за обслуживание банковской карты (за пос...</td>\n",
              "    </tr>\n",
              "    <tr>\n",
              "      <th>154</th>\n",
              "      <td>3120</td>\n",
              "      <td>Плата за досрочный перевыпуск карты</td>\n",
              "    </tr>\n",
              "  </tbody>\n",
              "</table>\n",
              "<p>155 rows × 2 columns</p>\n",
              "</div>\n",
              "      <button class=\"colab-df-convert\" onclick=\"convertToInteractive('df-36cb5644-ceb4-462a-8360-066788bff640')\"\n",
              "              title=\"Convert this dataframe to an interactive table.\"\n",
              "              style=\"display:none;\">\n",
              "        \n",
              "  <svg xmlns=\"http://www.w3.org/2000/svg\" height=\"24px\"viewBox=\"0 0 24 24\"\n",
              "       width=\"24px\">\n",
              "    <path d=\"M0 0h24v24H0V0z\" fill=\"none\"/>\n",
              "    <path d=\"M18.56 5.44l.94 2.06.94-2.06 2.06-.94-2.06-.94-.94-2.06-.94 2.06-2.06.94zm-11 1L8.5 8.5l.94-2.06 2.06-.94-2.06-.94L8.5 2.5l-.94 2.06-2.06.94zm10 10l.94 2.06.94-2.06 2.06-.94-2.06-.94-.94-2.06-.94 2.06-2.06.94z\"/><path d=\"M17.41 7.96l-1.37-1.37c-.4-.4-.92-.59-1.43-.59-.52 0-1.04.2-1.43.59L10.3 9.45l-7.72 7.72c-.78.78-.78 2.05 0 2.83L4 21.41c.39.39.9.59 1.41.59.51 0 1.02-.2 1.41-.59l7.78-7.78 2.81-2.81c.8-.78.8-2.07 0-2.86zM5.41 20L4 18.59l7.72-7.72 1.47 1.35L5.41 20z\"/>\n",
              "  </svg>\n",
              "      </button>\n",
              "      \n",
              "  <style>\n",
              "    .colab-df-container {\n",
              "      display:flex;\n",
              "      flex-wrap:wrap;\n",
              "      gap: 12px;\n",
              "    }\n",
              "\n",
              "    .colab-df-convert {\n",
              "      background-color: #E8F0FE;\n",
              "      border: none;\n",
              "      border-radius: 50%;\n",
              "      cursor: pointer;\n",
              "      display: none;\n",
              "      fill: #1967D2;\n",
              "      height: 32px;\n",
              "      padding: 0 0 0 0;\n",
              "      width: 32px;\n",
              "    }\n",
              "\n",
              "    .colab-df-convert:hover {\n",
              "      background-color: #E2EBFA;\n",
              "      box-shadow: 0px 1px 2px rgba(60, 64, 67, 0.3), 0px 1px 3px 1px rgba(60, 64, 67, 0.15);\n",
              "      fill: #174EA6;\n",
              "    }\n",
              "\n",
              "    [theme=dark] .colab-df-convert {\n",
              "      background-color: #3B4455;\n",
              "      fill: #D2E3FC;\n",
              "    }\n",
              "\n",
              "    [theme=dark] .colab-df-convert:hover {\n",
              "      background-color: #434B5C;\n",
              "      box-shadow: 0px 1px 3px 1px rgba(0, 0, 0, 0.15);\n",
              "      filter: drop-shadow(0px 1px 2px rgba(0, 0, 0, 0.3));\n",
              "      fill: #FFFFFF;\n",
              "    }\n",
              "  </style>\n",
              "\n",
              "      <script>\n",
              "        const buttonEl =\n",
              "          document.querySelector('#df-36cb5644-ceb4-462a-8360-066788bff640 button.colab-df-convert');\n",
              "        buttonEl.style.display =\n",
              "          google.colab.kernel.accessAllowed ? 'block' : 'none';\n",
              "\n",
              "        async function convertToInteractive(key) {\n",
              "          const element = document.querySelector('#df-36cb5644-ceb4-462a-8360-066788bff640');\n",
              "          const dataTable =\n",
              "            await google.colab.kernel.invokeFunction('convertToInteractive',\n",
              "                                                     [key], {});\n",
              "          if (!dataTable) return;\n",
              "\n",
              "          const docLinkHtml = 'Like what you see? Visit the ' +\n",
              "            '<a target=\"_blank\" href=https://colab.research.google.com/notebooks/data_table.ipynb>data table notebook</a>'\n",
              "            + ' to learn more about interactive tables.';\n",
              "          element.innerHTML = '';\n",
              "          dataTable['output_type'] = 'display_data';\n",
              "          await google.colab.output.renderOutput(dataTable, element);\n",
              "          const docLink = document.createElement('div');\n",
              "          docLink.innerHTML = docLinkHtml;\n",
              "          element.appendChild(docLink);\n",
              "        }\n",
              "      </script>\n",
              "    </div>\n",
              "  </div>\n",
              "  "
            ]
          },
          "metadata": {},
          "execution_count": 10
        }
      ]
    },
    {
      "cell_type": "markdown",
      "metadata": {
        "id": "04CYsBKz8JeB"
      },
      "source": [
        "\n",
        "Задания 1-4 делаются без использования merge!\n",
        "\n",
        "## Задание 1\n",
        "\n"
      ]
    },
    {
      "cell_type": "markdown",
      "metadata": {
        "id": "1hcrfwsYN_Yz"
      },
      "source": [
        "1. Для столбца tr_type датафрейма transactions выберите произвольные 1000 строк с помощью метода sample\n",
        "2. В полученной на предыдущем этапе подвыборке найдите долю транзакций (стобец tr_description в датасете tr_types), в которой содержится подстрока 'POS' или 'ATM'\n"
      ]
    },
    {
      "cell_type": "code",
      "source": [
        "tr_types_sample = transactions.tr_type.sample(n = 1000)\n",
        "atm_pos_types = tr_types[tr_types.tr_description.str.contains(\"АТМ|POS\")]['tr_type']\n",
        "tr_types_sample.isin(atm_pos_types).sum() / 1000"
      ],
      "metadata": {
        "colab": {
          "base_uri": "https://localhost:8080/"
        },
        "id": "7pPzhGrFpbUt",
        "outputId": "28afe7b0-3a3e-4ad5-f241-47fc64ad0355"
      },
      "execution_count": null,
      "outputs": [
        {
          "output_type": "execute_result",
          "data": {
            "text/plain": [
              "0.613"
            ]
          },
          "metadata": {},
          "execution_count": 142
        }
      ]
    },
    {
      "cell_type": "markdown",
      "metadata": {
        "id": "fiZBDIZt8JeS"
      },
      "source": [
        "## Задание 2 \n"
      ]
    },
    {
      "cell_type": "markdown",
      "metadata": {
        "id": "FFKeBUThOCrz"
      },
      "source": [
        "1. Для столбца tr_type датафрейма transactions посчитайте частоту встречаемости всех типов транзакций tr_type в transactions.\n",
        "2. Выведите топ-10 транзакций по частоте встречаемости (вывести для них tr_description тоже)."
      ]
    },
    {
      "cell_type": "code",
      "source": [
        "types = transactions.groupby(['tr_type'])\n",
        "top_ten = types.size().sort_values(ascending=False).iloc[:10]\n",
        "df = top_ten.to_frame()\n",
        "#df = df.reset_index()\n",
        "df = df.rename(columns={0:\"frequency\"})\n",
        "tr_types_copy = tr_types.copy()\n",
        "tr_types_copy = tr_types_copy.set_index('tr_type')\n",
        "df.insert(1,\"tr_desc\",tr_types_copy.tr_description)\n",
        "df"
      ],
      "metadata": {
        "colab": {
          "base_uri": "https://localhost:8080/",
          "height": 417
        },
        "id": "1PV_81mLHUlW",
        "outputId": "f90e918c-313b-40d1-a7ba-0055845f3085"
      },
      "execution_count": null,
      "outputs": [
        {
          "output_type": "execute_result",
          "data": {
            "text/plain": [
              "         frequency                                            tr_desc\n",
              "tr_type                                                              \n",
              "1010        231117                              Покупка. POS ТУ СБ РФ\n",
              "2010        151166              Выдача наличных в АТМ Сбербанк России\n",
              "7070        149006  Перевод на карту (с карты) через Мобильный бан...\n",
              "1110        137658                             Покупка. POS ТУ Россия\n",
              "1030        118975                     Оплата услуги. Банкоматы СБ РФ\n",
              "2370         49830  Списание с карты на карту по операции <перевод...\n",
              "7010         28972       Взнос наличных через АТМ (в своем тер.банке)\n",
              "7030         26078  Перевод на карту (с карты) через АТМ (в предел...\n",
              "7071         15781  Перевод на карту (с карты) через Мобильный бан...\n",
              "1100         15476                                Покупка. ТУ  Россия"
            ],
            "text/html": [
              "\n",
              "  <div id=\"df-549ec521-991f-402a-91b4-dcd079c7fc59\">\n",
              "    <div class=\"colab-df-container\">\n",
              "      <div>\n",
              "<style scoped>\n",
              "    .dataframe tbody tr th:only-of-type {\n",
              "        vertical-align: middle;\n",
              "    }\n",
              "\n",
              "    .dataframe tbody tr th {\n",
              "        vertical-align: top;\n",
              "    }\n",
              "\n",
              "    .dataframe thead th {\n",
              "        text-align: right;\n",
              "    }\n",
              "</style>\n",
              "<table border=\"1\" class=\"dataframe\">\n",
              "  <thead>\n",
              "    <tr style=\"text-align: right;\">\n",
              "      <th></th>\n",
              "      <th>frequency</th>\n",
              "      <th>tr_desc</th>\n",
              "    </tr>\n",
              "    <tr>\n",
              "      <th>tr_type</th>\n",
              "      <th></th>\n",
              "      <th></th>\n",
              "    </tr>\n",
              "  </thead>\n",
              "  <tbody>\n",
              "    <tr>\n",
              "      <th>1010</th>\n",
              "      <td>231117</td>\n",
              "      <td>Покупка. POS ТУ СБ РФ</td>\n",
              "    </tr>\n",
              "    <tr>\n",
              "      <th>2010</th>\n",
              "      <td>151166</td>\n",
              "      <td>Выдача наличных в АТМ Сбербанк России</td>\n",
              "    </tr>\n",
              "    <tr>\n",
              "      <th>7070</th>\n",
              "      <td>149006</td>\n",
              "      <td>Перевод на карту (с карты) через Мобильный бан...</td>\n",
              "    </tr>\n",
              "    <tr>\n",
              "      <th>1110</th>\n",
              "      <td>137658</td>\n",
              "      <td>Покупка. POS ТУ Россия</td>\n",
              "    </tr>\n",
              "    <tr>\n",
              "      <th>1030</th>\n",
              "      <td>118975</td>\n",
              "      <td>Оплата услуги. Банкоматы СБ РФ</td>\n",
              "    </tr>\n",
              "    <tr>\n",
              "      <th>2370</th>\n",
              "      <td>49830</td>\n",
              "      <td>Списание с карты на карту по операции &lt;перевод...</td>\n",
              "    </tr>\n",
              "    <tr>\n",
              "      <th>7010</th>\n",
              "      <td>28972</td>\n",
              "      <td>Взнос наличных через АТМ (в своем тер.банке)</td>\n",
              "    </tr>\n",
              "    <tr>\n",
              "      <th>7030</th>\n",
              "      <td>26078</td>\n",
              "      <td>Перевод на карту (с карты) через АТМ (в предел...</td>\n",
              "    </tr>\n",
              "    <tr>\n",
              "      <th>7071</th>\n",
              "      <td>15781</td>\n",
              "      <td>Перевод на карту (с карты) через Мобильный бан...</td>\n",
              "    </tr>\n",
              "    <tr>\n",
              "      <th>1100</th>\n",
              "      <td>15476</td>\n",
              "      <td>Покупка. ТУ  Россия</td>\n",
              "    </tr>\n",
              "  </tbody>\n",
              "</table>\n",
              "</div>\n",
              "      <button class=\"colab-df-convert\" onclick=\"convertToInteractive('df-549ec521-991f-402a-91b4-dcd079c7fc59')\"\n",
              "              title=\"Convert this dataframe to an interactive table.\"\n",
              "              style=\"display:none;\">\n",
              "        \n",
              "  <svg xmlns=\"http://www.w3.org/2000/svg\" height=\"24px\"viewBox=\"0 0 24 24\"\n",
              "       width=\"24px\">\n",
              "    <path d=\"M0 0h24v24H0V0z\" fill=\"none\"/>\n",
              "    <path d=\"M18.56 5.44l.94 2.06.94-2.06 2.06-.94-2.06-.94-.94-2.06-.94 2.06-2.06.94zm-11 1L8.5 8.5l.94-2.06 2.06-.94-2.06-.94L8.5 2.5l-.94 2.06-2.06.94zm10 10l.94 2.06.94-2.06 2.06-.94-2.06-.94-.94-2.06-.94 2.06-2.06.94z\"/><path d=\"M17.41 7.96l-1.37-1.37c-.4-.4-.92-.59-1.43-.59-.52 0-1.04.2-1.43.59L10.3 9.45l-7.72 7.72c-.78.78-.78 2.05 0 2.83L4 21.41c.39.39.9.59 1.41.59.51 0 1.02-.2 1.41-.59l7.78-7.78 2.81-2.81c.8-.78.8-2.07 0-2.86zM5.41 20L4 18.59l7.72-7.72 1.47 1.35L5.41 20z\"/>\n",
              "  </svg>\n",
              "      </button>\n",
              "      \n",
              "  <style>\n",
              "    .colab-df-container {\n",
              "      display:flex;\n",
              "      flex-wrap:wrap;\n",
              "      gap: 12px;\n",
              "    }\n",
              "\n",
              "    .colab-df-convert {\n",
              "      background-color: #E8F0FE;\n",
              "      border: none;\n",
              "      border-radius: 50%;\n",
              "      cursor: pointer;\n",
              "      display: none;\n",
              "      fill: #1967D2;\n",
              "      height: 32px;\n",
              "      padding: 0 0 0 0;\n",
              "      width: 32px;\n",
              "    }\n",
              "\n",
              "    .colab-df-convert:hover {\n",
              "      background-color: #E2EBFA;\n",
              "      box-shadow: 0px 1px 2px rgba(60, 64, 67, 0.3), 0px 1px 3px 1px rgba(60, 64, 67, 0.15);\n",
              "      fill: #174EA6;\n",
              "    }\n",
              "\n",
              "    [theme=dark] .colab-df-convert {\n",
              "      background-color: #3B4455;\n",
              "      fill: #D2E3FC;\n",
              "    }\n",
              "\n",
              "    [theme=dark] .colab-df-convert:hover {\n",
              "      background-color: #434B5C;\n",
              "      box-shadow: 0px 1px 3px 1px rgba(0, 0, 0, 0.15);\n",
              "      filter: drop-shadow(0px 1px 2px rgba(0, 0, 0, 0.3));\n",
              "      fill: #FFFFFF;\n",
              "    }\n",
              "  </style>\n",
              "\n",
              "      <script>\n",
              "        const buttonEl =\n",
              "          document.querySelector('#df-549ec521-991f-402a-91b4-dcd079c7fc59 button.colab-df-convert');\n",
              "        buttonEl.style.display =\n",
              "          google.colab.kernel.accessAllowed ? 'block' : 'none';\n",
              "\n",
              "        async function convertToInteractive(key) {\n",
              "          const element = document.querySelector('#df-549ec521-991f-402a-91b4-dcd079c7fc59');\n",
              "          const dataTable =\n",
              "            await google.colab.kernel.invokeFunction('convertToInteractive',\n",
              "                                                     [key], {});\n",
              "          if (!dataTable) return;\n",
              "\n",
              "          const docLinkHtml = 'Like what you see? Visit the ' +\n",
              "            '<a target=\"_blank\" href=https://colab.research.google.com/notebooks/data_table.ipynb>data table notebook</a>'\n",
              "            + ' to learn more about interactive tables.';\n",
              "          element.innerHTML = '';\n",
              "          dataTable['output_type'] = 'display_data';\n",
              "          await google.colab.output.renderOutput(dataTable, element);\n",
              "          const docLink = document.createElement('div');\n",
              "          docLink.innerHTML = docLinkHtml;\n",
              "          element.appendChild(docLink);\n",
              "        }\n",
              "      </script>\n",
              "    </div>\n",
              "  </div>\n",
              "  "
            ]
          },
          "metadata": {},
          "execution_count": 86
        }
      ]
    },
    {
      "cell_type": "markdown",
      "metadata": {
        "id": "mktm_JeA8JeX"
      },
      "source": [
        "## Задание 3\n",
        "1. В датафрейме transactions найдите клиента с максимальной суммой приходов на карту\n",
        "2. В датафрейме transactions найдите клиента с максимальной суммой расходов по карте\n",
        "3. Найдите модуль разницы для этих клиентов между суммой расходов и суммой приходов"
      ]
    },
    {
      "cell_type": "code",
      "source": [
        "groups = transactions.groupby(['customer_id'])\n",
        "income = groups.apply(lambda x: x[x['amount'] > 0]['amount'].sum())\n",
        "expenses = groups.apply(lambda x: x[x['amount'] < 0]['amount'].sum())\n",
        "top_income = income.sort_values(ascending=False).iloc[:1]\n",
        "top_expenses = expenses.sort_values(ascending=True).iloc[:1]\n",
        "abs(income[top_income.index] + expenses[top_income.index])"
      ],
      "metadata": {
        "colab": {
          "base_uri": "https://localhost:8080/"
        },
        "id": "gu5Yr3gPkv7m",
        "outputId": "552adcc5-6560-4a5e-f317-7a89c5f26009"
      },
      "execution_count": null,
      "outputs": [
        {
          "output_type": "execute_result",
          "data": {
            "text/plain": [
              "customer_id\n",
              "70780820    1837317.98\n",
              "dtype: float64"
            ]
          },
          "metadata": {},
          "execution_count": 140
        }
      ]
    },
    {
      "cell_type": "markdown",
      "metadata": {
        "id": "BYrJ5b_E8Jee"
      },
      "source": [
        "## Задание 4\n",
        "1. Найдите среднее арифметическое и медиану по amount по всем типам транзакций из топ 10 из задания 2\n",
        "1. Найдите среднее арифметическое и медиану по amount по всем типам транзакций для клиентов из задания 3"
      ]
    },
    {
      "cell_type": "code",
      "source": [
        "#1\n",
        "task2 = transactions[transactions.tr_type.isin(df.index)]\n",
        "task2_grouped = task2.groupby(['tr_type'])\n",
        "task2_mean = task2_grouped.amount.mean()\n",
        "task2_median = task2_grouped.amount.median()\n",
        "display(task2_mean)\n",
        "display(task2_median)\n",
        "#2\n",
        "task3 = transactions[transactions.customer_id.isin(top_income.index)]\n",
        "task3_grouped = task3.groupby(['tr_type'])\n",
        "task3_mean = task3_grouped.amount.mean()\n",
        "task3_median = task3_grouped.amount.median()\n",
        "display(task3_mean)\n",
        "display(task3_median)"
      ],
      "metadata": {
        "colab": {
          "base_uri": "https://localhost:8080/",
          "height": 988
        },
        "id": "Q1zyxtcqwWVP",
        "outputId": "aeef9809-36d0-4df4-c239-7bb4a529432a"
      },
      "execution_count": null,
      "outputs": [
        {
          "output_type": "display_data",
          "data": {
            "text/plain": [
              "tr_type\n",
              "1010    -19784.748640\n",
              "1030     -5320.980222\n",
              "1100    -44061.827262\n",
              "1110    -32119.330371\n",
              "2010   -136077.629325\n",
              "2370   -205418.249032\n",
              "7010    276391.789596\n",
              "7030     86104.332909\n",
              "7070     65569.831700\n",
              "7071     66806.826623\n",
              "Name: amount, dtype: float64"
            ]
          },
          "metadata": {}
        },
        {
          "output_type": "display_data",
          "data": {
            "text/plain": [
              "tr_type\n",
              "1010     -7411.52\n",
              "1030     -2245.92\n",
              "1100    -10188.26\n",
              "1110    -11207.57\n",
              "2010    -44918.32\n",
              "2370    -44918.32\n",
              "7010    112295.79\n",
              "7030     13951.52\n",
              "7070     11319.42\n",
              "7071      3593.47\n",
              "Name: amount, dtype: float64"
            ]
          },
          "metadata": {}
        },
        {
          "output_type": "display_data",
          "data": {
            "text/plain": [
              "tr_type\n",
              "2010   -2.941056e+06\n",
              "2330   -2.382398e+06\n",
              "2370   -2.218505e+06\n",
              "6110    1.756293e+04\n",
              "7020    1.465129e+04\n",
              "7021    2.850067e+04\n",
              "7030    1.406196e+04\n",
              "7031    1.921036e+04\n",
              "7034    1.430648e+04\n",
              "7040    2.153833e+04\n",
              "7070    1.384821e+04\n",
              "7071    1.860057e+04\n",
              "7074    2.281159e+04\n",
              "Name: amount, dtype: float64"
            ]
          },
          "metadata": {}
        },
        {
          "output_type": "display_data",
          "data": {
            "text/plain": [
              "tr_type\n",
              "2010   -3368873.660\n",
              "2330   -2245915.770\n",
              "2370   -2245915.770\n",
              "6110      10028.010\n",
              "7020      10319.985\n",
              "7021      28500.670\n",
              "7030       8848.910\n",
              "7031      12992.620\n",
              "7034      14306.480\n",
              "7040      14396.320\n",
              "7070       8714.150\n",
              "7071      12543.440\n",
              "7074       9387.930\n",
              "Name: amount, dtype: float64"
            ]
          },
          "metadata": {}
        }
      ]
    },
    {
      "cell_type": "markdown",
      "metadata": {
        "id": "BYXwM4l3QDBu"
      },
      "source": [
        "## Подготовка для заданий 5-8"
      ]
    },
    {
      "cell_type": "markdown",
      "metadata": {
        "id": "XWQzFeKcQHRe"
      },
      "source": [
        "*Из заданий 5-8 нужно выполнить минимум два любых*\n",
        "\n",
        "Соедините transactions с всеми остальными таблицами (tr_mcc_codes, tr_types, gender_train). Причём с gender_train необходимо смёрджиться с помощью left join, а с оставшимися датафреймами - через inner.\n",
        "После получения результата таблицы gender_train, tr_types, tr_mcc_codes можно удалить. В результате соединения датафреймов должно получиться 999584 строки."
      ]
    },
    {
      "cell_type": "code",
      "metadata": {
        "id": "sndJxjJ7QQf5",
        "colab": {
          "base_uri": "https://localhost:8080/",
          "height": 522
        },
        "outputId": "cf0bc0e4-922d-4aeb-f597-3451f75cd43e"
      },
      "source": [
        "transactions = pd.merge(transactions, gender_train, how='left')\n",
        "transactions = pd.merge(transactions, tr_mcc_codes, how='inner')\n",
        "transactions = pd.merge(transactions, tr_types, how='inner')\n",
        "transactions.shape"
      ],
      "execution_count": null,
      "outputs": [
        {
          "output_type": "execute_result",
          "data": {
            "text/plain": [
              "        customer_id   tr_datetime  mcc_code  tr_type     amount term_id  \\\n",
              "999580     76313007  188 08:11:09      6011     7015  112295.79     NaN   \n",
              "999581     19769561  445 10:26:16      6011     7015  463781.61  145075   \n",
              "999582       701335  311 21:30:25      6011     7015   11229.58  391269   \n",
              "999583     74697056  222 12:15:19      6011     7015  112295.79  650927   \n",
              "\n",
              "        gender                                    mcc_description  \\\n",
              "999580     NaN  Финансовые институты — снятие наличности автом...   \n",
              "999581     NaN  Финансовые институты — снятие наличности автом...   \n",
              "999582     NaN  Финансовые институты — снятие наличности автом...   \n",
              "999583     NaN  Финансовые институты — снятие наличности автом...   \n",
              "\n",
              "                                           tr_description  \n",
              "999580  Взнос наличных через АТМ (в других ТБ) по счет...  \n",
              "999581  Взнос наличных через АТМ (в других ТБ) по счет...  \n",
              "999582  Взнос наличных через АТМ (в других ТБ) по счет...  \n",
              "999583  Взнос наличных через АТМ (в других ТБ) по счет...  "
            ],
            "text/html": [
              "\n",
              "  <div id=\"df-6543f61c-7686-48dd-9bf9-57447211256b\">\n",
              "    <div class=\"colab-df-container\">\n",
              "      <div>\n",
              "<style scoped>\n",
              "    .dataframe tbody tr th:only-of-type {\n",
              "        vertical-align: middle;\n",
              "    }\n",
              "\n",
              "    .dataframe tbody tr th {\n",
              "        vertical-align: top;\n",
              "    }\n",
              "\n",
              "    .dataframe thead th {\n",
              "        text-align: right;\n",
              "    }\n",
              "</style>\n",
              "<table border=\"1\" class=\"dataframe\">\n",
              "  <thead>\n",
              "    <tr style=\"text-align: right;\">\n",
              "      <th></th>\n",
              "      <th>customer_id</th>\n",
              "      <th>tr_datetime</th>\n",
              "      <th>mcc_code</th>\n",
              "      <th>tr_type</th>\n",
              "      <th>amount</th>\n",
              "      <th>term_id</th>\n",
              "      <th>gender</th>\n",
              "      <th>mcc_description</th>\n",
              "      <th>tr_description</th>\n",
              "    </tr>\n",
              "  </thead>\n",
              "  <tbody>\n",
              "    <tr>\n",
              "      <th>999580</th>\n",
              "      <td>76313007</td>\n",
              "      <td>188 08:11:09</td>\n",
              "      <td>6011</td>\n",
              "      <td>7015</td>\n",
              "      <td>112295.79</td>\n",
              "      <td>NaN</td>\n",
              "      <td>NaN</td>\n",
              "      <td>Финансовые институты — снятие наличности автом...</td>\n",
              "      <td>Взнос наличных через АТМ (в других ТБ) по счет...</td>\n",
              "    </tr>\n",
              "    <tr>\n",
              "      <th>999581</th>\n",
              "      <td>19769561</td>\n",
              "      <td>445 10:26:16</td>\n",
              "      <td>6011</td>\n",
              "      <td>7015</td>\n",
              "      <td>463781.61</td>\n",
              "      <td>145075</td>\n",
              "      <td>NaN</td>\n",
              "      <td>Финансовые институты — снятие наличности автом...</td>\n",
              "      <td>Взнос наличных через АТМ (в других ТБ) по счет...</td>\n",
              "    </tr>\n",
              "    <tr>\n",
              "      <th>999582</th>\n",
              "      <td>701335</td>\n",
              "      <td>311 21:30:25</td>\n",
              "      <td>6011</td>\n",
              "      <td>7015</td>\n",
              "      <td>11229.58</td>\n",
              "      <td>391269</td>\n",
              "      <td>NaN</td>\n",
              "      <td>Финансовые институты — снятие наличности автом...</td>\n",
              "      <td>Взнос наличных через АТМ (в других ТБ) по счет...</td>\n",
              "    </tr>\n",
              "    <tr>\n",
              "      <th>999583</th>\n",
              "      <td>74697056</td>\n",
              "      <td>222 12:15:19</td>\n",
              "      <td>6011</td>\n",
              "      <td>7015</td>\n",
              "      <td>112295.79</td>\n",
              "      <td>650927</td>\n",
              "      <td>NaN</td>\n",
              "      <td>Финансовые институты — снятие наличности автом...</td>\n",
              "      <td>Взнос наличных через АТМ (в других ТБ) по счет...</td>\n",
              "    </tr>\n",
              "  </tbody>\n",
              "</table>\n",
              "</div>\n",
              "      <button class=\"colab-df-convert\" onclick=\"convertToInteractive('df-6543f61c-7686-48dd-9bf9-57447211256b')\"\n",
              "              title=\"Convert this dataframe to an interactive table.\"\n",
              "              style=\"display:none;\">\n",
              "        \n",
              "  <svg xmlns=\"http://www.w3.org/2000/svg\" height=\"24px\"viewBox=\"0 0 24 24\"\n",
              "       width=\"24px\">\n",
              "    <path d=\"M0 0h24v24H0V0z\" fill=\"none\"/>\n",
              "    <path d=\"M18.56 5.44l.94 2.06.94-2.06 2.06-.94-2.06-.94-.94-2.06-.94 2.06-2.06.94zm-11 1L8.5 8.5l.94-2.06 2.06-.94-2.06-.94L8.5 2.5l-.94 2.06-2.06.94zm10 10l.94 2.06.94-2.06 2.06-.94-2.06-.94-.94-2.06-.94 2.06-2.06.94z\"/><path d=\"M17.41 7.96l-1.37-1.37c-.4-.4-.92-.59-1.43-.59-.52 0-1.04.2-1.43.59L10.3 9.45l-7.72 7.72c-.78.78-.78 2.05 0 2.83L4 21.41c.39.39.9.59 1.41.59.51 0 1.02-.2 1.41-.59l7.78-7.78 2.81-2.81c.8-.78.8-2.07 0-2.86zM5.41 20L4 18.59l7.72-7.72 1.47 1.35L5.41 20z\"/>\n",
              "  </svg>\n",
              "      </button>\n",
              "      \n",
              "  <style>\n",
              "    .colab-df-container {\n",
              "      display:flex;\n",
              "      flex-wrap:wrap;\n",
              "      gap: 12px;\n",
              "    }\n",
              "\n",
              "    .colab-df-convert {\n",
              "      background-color: #E8F0FE;\n",
              "      border: none;\n",
              "      border-radius: 50%;\n",
              "      cursor: pointer;\n",
              "      display: none;\n",
              "      fill: #1967D2;\n",
              "      height: 32px;\n",
              "      padding: 0 0 0 0;\n",
              "      width: 32px;\n",
              "    }\n",
              "\n",
              "    .colab-df-convert:hover {\n",
              "      background-color: #E2EBFA;\n",
              "      box-shadow: 0px 1px 2px rgba(60, 64, 67, 0.3), 0px 1px 3px 1px rgba(60, 64, 67, 0.15);\n",
              "      fill: #174EA6;\n",
              "    }\n",
              "\n",
              "    [theme=dark] .colab-df-convert {\n",
              "      background-color: #3B4455;\n",
              "      fill: #D2E3FC;\n",
              "    }\n",
              "\n",
              "    [theme=dark] .colab-df-convert:hover {\n",
              "      background-color: #434B5C;\n",
              "      box-shadow: 0px 1px 3px 1px rgba(0, 0, 0, 0.15);\n",
              "      filter: drop-shadow(0px 1px 2px rgba(0, 0, 0, 0.3));\n",
              "      fill: #FFFFFF;\n",
              "    }\n",
              "  </style>\n",
              "\n",
              "      <script>\n",
              "        const buttonEl =\n",
              "          document.querySelector('#df-6543f61c-7686-48dd-9bf9-57447211256b button.colab-df-convert');\n",
              "        buttonEl.style.display =\n",
              "          google.colab.kernel.accessAllowed ? 'block' : 'none';\n",
              "\n",
              "        async function convertToInteractive(key) {\n",
              "          const element = document.querySelector('#df-6543f61c-7686-48dd-9bf9-57447211256b');\n",
              "          const dataTable =\n",
              "            await google.colab.kernel.invokeFunction('convertToInteractive',\n",
              "                                                     [key], {});\n",
              "          if (!dataTable) return;\n",
              "\n",
              "          const docLinkHtml = 'Like what you see? Visit the ' +\n",
              "            '<a target=\"_blank\" href=https://colab.research.google.com/notebooks/data_table.ipynb>data table notebook</a>'\n",
              "            + ' to learn more about interactive tables.';\n",
              "          element.innerHTML = '';\n",
              "          dataTable['output_type'] = 'display_data';\n",
              "          await google.colab.output.renderOutput(dataTable, element);\n",
              "          const docLink = document.createElement('div');\n",
              "          docLink.innerHTML = docLinkHtml;\n",
              "          element.appendChild(docLink);\n",
              "        }\n",
              "      </script>\n",
              "    </div>\n",
              "  </div>\n",
              "  "
            ]
          },
          "metadata": {},
          "execution_count": 172
        }
      ]
    },
    {
      "cell_type": "markdown",
      "metadata": {
        "id": "8vrFauJ8QgmT"
      },
      "source": [
        "## Задание 5"
      ]
    },
    {
      "cell_type": "markdown",
      "metadata": {
        "id": "rOjEQ5xyQfE_"
      },
      "source": [
        "1. Определите модуль разницы между средними тратами женщин и мужчин (трата - отрицательное значение amount).\n",
        "2. Определите модуль разницы между средними поступлениями у мужчин и женщин\n",
        "\n",
        "Обратите внимание, что для вычисления модуля разности точных знаний о том, \n",
        "какой класc относится к мужчинам, а какой - к женщинам, не требуется."
      ]
    },
    {
      "cell_type": "code",
      "source": [
        "#1\n",
        "groups = transactions.groupby(['gender'])\n",
        "waste = groups.apply(lambda x: x[x['amount'] < 0]['amount'].mean())\n",
        "print(abs(waste.iloc[0] - waste.iloc[1]))\n",
        "#2\n",
        "income = groups.apply(lambda x: x[x['amount'] > 0]['amount'].mean())\n",
        "print(abs(income.iloc[0] - income.iloc[1]))\n",
        "\n"
      ],
      "metadata": {
        "colab": {
          "base_uri": "https://localhost:8080/"
        },
        "id": "AGzGTyTbJGeZ",
        "outputId": "7775d25a-aa55-42f0-b5a9-18ed01ee042a"
      },
      "execution_count": null,
      "outputs": [
        {
          "output_type": "stream",
          "name": "stdout",
          "text": [
            "32718.054920224655\n",
            "63366.57104801461\n"
          ]
        }
      ]
    },
    {
      "cell_type": "markdown",
      "metadata": {
        "id": "DSHFLbepQ7G1"
      },
      "source": [
        "## Задание 6"
      ]
    },
    {
      "cell_type": "markdown",
      "metadata": {
        "id": "2EF1490bQ-17"
      },
      "source": [
        "1. По всем типам транзакций рассчитайте максимальную сумму прихода на карту (из строго положительных сумм по столбцу amount) отдельно для мужчин и женщин (назовите ее \"max_income\"). Оставьте по 10 типов транзакций для мужчин и для женщин, наименьших среди всех типов транзакций по полученным значениям \"max_income\". \n",
        "2. Выделите среди них те типы транзакций, которые встречаются одновременно и у мужчин, и у женщин"
      ]
    },
    {
      "cell_type": "markdown",
      "metadata": {
        "id": "W-LaVwRdR3UB"
      },
      "source": [
        "## Задание 7"
      ]
    },
    {
      "cell_type": "markdown",
      "metadata": {
        "id": "rhI4NOciR7e0"
      },
      "source": [
        "1. Найдите суммы затрат по каждой категории (mcc) для мужчин и для женщин. \n",
        "2. Найдите топ 10 категорий с самыми большими относительными модулями разности в тратах для разных полов (в ответе должны присутствовать описания mcc кодов)."
      ]
    },
    {
      "cell_type": "code",
      "source": [
        "#1\n",
        "sum_expenses = transactions[transactions['amount'] < 0].groupby([\"gender\", \"mcc_code\"])[\"amount\"].sum()\n",
        "print(sum_expenses)\n"
      ],
      "metadata": {
        "colab": {
          "base_uri": "https://localhost:8080/"
        },
        "id": "RjjrQKfDLXIl",
        "outputId": "d826502e-91e9-4496-b3ce-8b9997d5d6aa"
      },
      "execution_count": null,
      "outputs": [
        {
          "output_type": "stream",
          "name": "stdout",
          "text": [
            "gender  mcc_code\n",
            "0.0     742          -386207.68\n",
            "        1711         -674897.69\n",
            "        1799         -261626.73\n",
            "        2741          -20746.42\n",
            "        3000       -74431645.27\n",
            "                       ...     \n",
            "1.0     8999       -28643346.63\n",
            "        9222         -988205.17\n",
            "        9311         -373271.22\n",
            "        9399        -1810820.67\n",
            "        9402           -4581.67\n",
            "Name: amount, Length: 349, dtype: float64\n"
          ]
        }
      ]
    },
    {
      "cell_type": "code",
      "source": [
        "#2\n",
        "top = abs(sum_expenses[0] - sum_expenses[1]).sort_values(ascending=False).head(10)\n",
        "print(tr_mcc_codes[tr_mcc_codes[\"mcc_code\"].isin(top.index)])"
      ],
      "metadata": {
        "colab": {
          "base_uri": "https://localhost:8080/"
        },
        "id": "uwCn6z02N2e_",
        "outputId": "a13c7fd8-0a1e-41ff-ed9b-0b06fa788d83"
      },
      "execution_count": null,
      "outputs": [
        {
          "output_type": "stream",
          "name": "stdout",
          "text": [
            "     mcc_code                                    mcc_description\n",
            "22       4829                                  Денежные переводы\n",
            "62       5511  Легковой и грузовой транспорт — продажа, серви...\n",
            "64       5533                          Автозапчасти и аксессуары\n",
            "65       5541                            Станции техобслуживания\n",
            "75       5661                                   Обувные магазины\n",
            "90       5812             Места общественного питания, рестораны\n",
            "116      5977                                 Магазины косметики\n",
            "123      6010   Финансовые институты — снятие наличности вручную\n",
            "124      6011  Финансовые институты — снятие наличности автом...\n",
            "162      7995                       Транзакции по азартным играм\n"
          ]
        }
      ]
    },
    {
      "cell_type": "markdown",
      "metadata": {
        "id": "aGaPkQkVSvl8"
      },
      "source": [
        "## Задание 8"
      ]
    },
    {
      "cell_type": "markdown",
      "metadata": {
        "id": "T7Ox1qAXTHQl"
      },
      "source": [
        "1. Из поля tr_datetime выделите час tr_hour, в который произошла транзакция, как первые 2 цифры до \":\". (\\**)\n",
        "2. Посчитайте количество транзакций с amount<0 в ночное время для мужчин и женщин. Ночное время - это примерно 00-06 часов. "
      ]
    }
  ]
}